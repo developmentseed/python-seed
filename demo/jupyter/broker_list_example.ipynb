{
 "cells": [
  {
   "cell_type": "code",
   "execution_count": 13,
   "metadata": {},
   "outputs": [
    {
     "name": "stdout",
     "output_type": "stream",
     "text": [
      "MatrixHeader(name='AAPL', revision_id='1', storage_method='arctic', path='isharp/AAPL', memory_style=<MemStyles.DATA_FRAME: 1>, description=\"don't know yet\")\n",
      "MatrixHeader(name='MSFT', revision_id='1', storage_method='arctic', path='isharp/MSFT', memory_style=<MemStyles.DATA_FRAME: 1>, description=\"don't know yet\")\n",
      "MatrixHeader(name='ORCL', revision_id='1', storage_method='arctic', path='isharp/ORCL', memory_style=<MemStyles.DATA_FRAME: 1>, description=\"don't know yet\")\n",
      "MatrixHeader(name='PRU', revision_id='1', storage_method='arctic', path='isharp/PRU', memory_style=<MemStyles.DATA_FRAME: 1>, description=\"don't know yet\")\n",
      "MatrixHeader(name='RR', revision_id='1', storage_method='arctic', path='isharp/RR', memory_style=<MemStyles.DATA_FRAME: 1>, description=\"don't know yet\")\n",
      "MatrixHeader(name='SDR', revision_id='1', storage_method='arctic', path='isharp/SDR', memory_style=<MemStyles.DATA_FRAME: 1>, description=\"don't know yet\")\n",
      "MatrixHeader(name='TSCO', revision_id='1', storage_method='arctic', path='isharp/TSCO', memory_style=<MemStyles.DATA_FRAME: 1>, description=\"don't know yet\")\n",
      "MatrixHeader(name='VOD', revision_id='1', storage_method='arctic', path='isharp/VOD', memory_style=<MemStyles.DATA_FRAME: 1>, description=\"don't know yet\")\n",
      "MatrixHeader(name='CLOSING.SP.EOD', revision_id='1', storage_method='arctic', path='InvestCo/CLOSING.SP.EOD', memory_style=<MemStyles.DATA_FRAME: 1>, description=\"don't know yet\")\n",
      "MatrixHeader(name='SPOT.FTSE.0500', revision_id='1', storage_method='arctic', path='YahooFinance/SPOT.FTSE.0500', memory_style=<MemStyles.DATA_FRAME: 1>, description=\"don't know yet\")\n"
     ]
    }
   ],
   "source": [
    "\n",
    "\n",
    "from isharp.datahub.broker_client.remote_proxy import BrokerConnectionPool\n",
    "\n",
    "with BrokerConnectionPool() as broker:\n",
    "    broker.releaseAll()\n",
    "    for thisItem in broker.list(\"rabbit:5672\"):\n",
    "        print (thisItem)\n",
    "    "
   ]
  }
 ],
 "metadata": {
  "kernelspec": {
   "display_name": "Python 3",
   "language": "python",
   "name": "python3"
  },
  "language_info": {
   "codemirror_mode": {
    "name": "ipython",
    "version": 3
   },
   "file_extension": ".py",
   "mimetype": "text/x-python",
   "name": "python",
   "nbconvert_exporter": "python",
   "pygments_lexer": "ipython3",
   "version": "3.6.9"
  }
 },
 "nbformat": 4,
 "nbformat_minor": 2
}
